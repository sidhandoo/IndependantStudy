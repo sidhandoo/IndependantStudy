{
 "cells": [
  {
   "cell_type": "code",
   "execution_count": 1,
   "metadata": {},
   "outputs": [],
   "source": [
    "import os, sys, math\n",
    "import pandas as pd\n",
    "import numpy as np\n",
    "from sklearn.model_selection import train_test_split"
   ]
  },
  {
   "cell_type": "code",
   "execution_count": 2,
   "metadata": {},
   "outputs": [
    {
     "name": "stdout",
     "output_type": "stream",
     "text": [
      "<class 'pandas.core.frame.DataFrame'>\n",
      "RangeIndex: 23760 entries, 0 to 23759\n",
      "Data columns (total 4 columns):\n",
      "peptide      23760 non-null object\n",
      "label_chr    23760 non-null object\n",
      "label_num    23760 non-null int64\n",
      "data_type    23760 non-null object\n",
      "dtypes: int64(1), object(3)\n",
      "memory usage: 742.6+ KB\n"
     ]
    }
   ],
   "source": [
    "\n",
    "# Read Data File\n",
    "\n",
    "data = pd.read_csv(\"/Users/sidhandoo/Documents/USF/Annual Project Work/ran_peps_netMHCpan40_predicted_A0201_reduced_cleaned_balanced.csv\", sep='\\t')\n",
    "data.head() # Shows the data structure for first few rows. Peptide Column is categorical value. Target column Label_char also is a catgeorical value.\n",
    "\n",
    "data.describe() # Shows summary of the numerical attributes\n",
    "data.info() # There are 23760 instances in the data set."
   ]
  },
  {
   "cell_type": "code",
   "execution_count": 39,
   "metadata": {},
   "outputs": [],
   "source": [
    "# Prepare the Data for Machine Learning Algorithm\n",
    "\n",
    "x = data.drop(columns=[\"label_num\", \"data_type\", \"label_chr\"])\n",
    "\n",
    "y = data.drop(columns=[\"peptide\", \"label_chr\", \"data_type\"])\n"
   ]
  },
  {
   "cell_type": "code",
   "execution_count": 40,
   "metadata": {},
   "outputs": [
    {
     "name": "stdout",
     "output_type": "stream",
     "text": [
      "         peptide\n",
      "0      LLTDAQRIV\n",
      "1      LMAFYLYEV\n",
      "2      VMSPITLPT\n",
      "3      SLHLTNCFV\n",
      "4      RQFTCMIAV\n",
      "5      HQRLAPTMP\n",
      "6      FMNGHTHIA\n",
      "7      KINPYFSGA\n",
      "8      WLLIFHHCP\n",
      "9      NIWLAIIEL\n",
      "10     KIMPYVAQF\n",
      "11     AIWERACTI\n",
      "12     MRYRVSVHP\n",
      "13     VLNGYSWFA\n",
      "14     WIWGIQYLL\n",
      "15     VILSFCQNK\n",
      "16     SNKGTYMMR\n",
      "17     DRNSMMHYG\n",
      "18     SLTHVPCYV\n",
      "19     LMWDMRTRM\n",
      "20     NLWDATMKT\n",
      "21     SMNNSHYMV\n",
      "22     CDPHGYQIY\n",
      "23     IIADHDYYM\n",
      "24     PLNPSYIKV\n",
      "25     MLPPWGACV\n",
      "26     MPMMRAHGR\n",
      "27     YIEEVTMEF\n",
      "28     QLVAENEEV\n",
      "29     LVMTEDMAI\n",
      "...          ...\n",
      "23730  ILKDDVMAC\n",
      "23731  QMLITMFQV\n",
      "23732  QWGDTQGRM\n",
      "23733  KKNMVAYMD\n",
      "23734  SMIYDARAL\n",
      "23735  YIGVWKWMV\n",
      "23736  SLFGGQMKM\n",
      "23737  FIWRKNMVA\n",
      "23738  PCMKAIMPK\n",
      "23739  TLATVRNNV\n",
      "23740  LSDYKCYEP\n",
      "23741  IHSYRPITM\n",
      "23742  YLVQPAHNA\n",
      "23743  ALDCFFWFI\n",
      "23744  KLSSWGCEL\n",
      "23745  FEVVSIGFI\n",
      "23746  EMQCMRKTA\n",
      "23747  SMNWDQETI\n",
      "23748  SQANGHIWQ\n",
      "23749  TWCGGKQFI\n",
      "23750  TINEHINTL\n",
      "23751  LMWGSHVQL\n",
      "23752  VLEWVNAMI\n",
      "23753  FQDDQTMSM\n",
      "23754  ITYWWSFYA\n",
      "23755  ILRAFLSSL\n",
      "23756  QTYDEIHYV\n",
      "23757  KVFDDELWI\n",
      "23758  WIDIDRIFL\n",
      "23759  YLMVNDYWA\n",
      "\n",
      "[23760 rows x 1 columns]\n"
     ]
    }
   ],
   "source": [
    "print(x)"
   ]
  },
  {
   "cell_type": "code",
   "execution_count": 4,
   "metadata": {},
   "outputs": [
    {
     "name": "stdout",
     "output_type": "stream",
     "text": [
      "       label_num\n",
      "0              1\n",
      "1              2\n",
      "2              1\n",
      "3              1\n",
      "4              1\n",
      "5              0\n",
      "6              2\n",
      "7              1\n",
      "8              0\n",
      "9              1\n",
      "10             1\n",
      "11             1\n",
      "12             0\n",
      "13             2\n",
      "14             2\n",
      "15             0\n",
      "16             0\n",
      "17             0\n",
      "18             2\n",
      "19             1\n",
      "20             2\n",
      "21             2\n",
      "22             0\n",
      "23             2\n",
      "24             1\n",
      "25             2\n",
      "26             0\n",
      "27             1\n",
      "28             2\n",
      "29             1\n",
      "...          ...\n",
      "23730          1\n",
      "23731          1\n",
      "23732          0\n",
      "23733          0\n",
      "23734          1\n",
      "23735          1\n",
      "23736          2\n",
      "23737          1\n",
      "23738          0\n",
      "23739          1\n",
      "23740          0\n",
      "23741          0\n",
      "23742          2\n",
      "23743          1\n",
      "23744          1\n",
      "23745          0\n",
      "23746          0\n",
      "23747          1\n",
      "23748          0\n",
      "23749          0\n",
      "23750          2\n",
      "23751          2\n",
      "23752          1\n",
      "23753          2\n",
      "23754          1\n",
      "23755          1\n",
      "23756          2\n",
      "23757          2\n",
      "23758          1\n",
      "23759          2\n",
      "\n",
      "[23760 rows x 1 columns]\n"
     ]
    }
   ],
   "source": [
    "print(y)"
   ]
  },
  {
   "cell_type": "code",
   "execution_count": 5,
   "metadata": {},
   "outputs": [],
   "source": [
    "#Peptide encoding equence using the 20 Amino acids labels tha t form a peptide bond \n",
    "\n",
    "codes = ['A', 'C', 'D', 'E', 'F', 'G', 'H', 'I', 'K', 'L',\n",
    "         'M', 'N', 'P', 'Q', 'R', 'S', 'T', 'V', 'W', 'Y']"
   ]
  },
  {
   "cell_type": "code",
   "execution_count": 6,
   "metadata": {},
   "outputs": [],
   "source": [
    "def one_hot_encode(seq):\n",
    "    o = list(set(codes) - set(seq))\n",
    "    s = pd.DataFrame(list(seq))\n",
    "    x = pd.DataFrame(np.zeros((len(seq),len(o)),dtype=int),columns=o)\n",
    "    a = s[0].str.get_dummies(sep=',')\n",
    "    a = a.join(x)\n",
    "    a = a.sort_index(axis=1)\n",
    "    #show_matrix(a)\n",
    "    e = a.values.flatten()\n",
    "    return e"
   ]
  },
  {
   "cell_type": "code",
   "execution_count": 7,
   "metadata": {},
   "outputs": [],
   "source": [
    "pep = 'ALDFEQEMT'"
   ]
  },
  {
   "cell_type": "code",
   "execution_count": 8,
   "metadata": {},
   "outputs": [
    {
     "name": "stdout",
     "output_type": "stream",
     "text": [
      "[1 0 0 0 0 0 0 0 0 0 0 0 0 0 0 0 0 0 0 0 0 0 0 0 0 0 0 0 0 1 0 0 0 0 0 0 0\n",
      " 0 0 0 0 0 1 0 0 0 0 0 0 0 0 0 0 0 0 0 0 0 0 0 0 0 0 0 1 0 0 0 0 0 0 0 0 0\n",
      " 0 0 0 0 0 0 0 0 0 1 0 0 0 0 0 0 0 0 0 0 0 0 0 0 0 0 0 0 0 0 0 0 0 0 0 0 0\n",
      " 0 0 1 0 0 0 0 0 0 0 0 0 1 0 0 0 0 0 0 0 0 0 0 0 0 0 0 0 0 0 0 0 0 0 0 0 0\n",
      " 0 0 1 0 0 0 0 0 0 0 0 0 0 0 0 0 0 0 0 0 0 0 0 0 0 0 0 0 1 0 0 0]\n"
     ]
    }
   ],
   "source": [
    "# Perform One Hot Encoding pm pep\n",
    "e = one_hot_encode(pep)\n",
    "print(e)"
   ]
  },
  {
   "cell_type": "code",
   "execution_count": 9,
   "metadata": {},
   "outputs": [
    {
     "name": "stdout",
     "output_type": "stream",
     "text": [
      "length of x:23760\n"
     ]
    }
   ],
   "source": [
    "# create an object to hold loop results\n",
    "print(\"length of x:\" + str(len(x)))"
   ]
  },
  {
   "cell_type": "code",
   "execution_count": 10,
   "metadata": {},
   "outputs": [
    {
     "name": "stdout",
     "output_type": "stream",
     "text": [
      "x length after removing header: 23760\n",
      "x_loop length: 23760\n"
     ]
    }
   ],
   "source": [
    "x = x.values\n",
    "print(\"x length after removing header: \" + str(len(x)))\n",
    "x_loop = []\n",
    "for i in x:\n",
    "    x_loop.append(one_hot_encode(i))\n",
    "    #print(x_loop)\n",
    "\n",
    "print(\"x_loop length: \" + str(len(x_loop)))\n"
   ]
  },
  {
   "cell_type": "code",
   "execution_count": 11,
   "metadata": {},
   "outputs": [
    {
     "name": "stdout",
     "output_type": "stream",
     "text": [
      "23760\n",
      "23760\n"
     ]
    },
    {
     "name": "stderr",
     "output_type": "stream",
     "text": [
      "/Users/sidhandoo/anaconda3/lib/python3.6/site-packages/ipykernel_launcher.py:2: FutureWarning: Method .as_matrix will be removed in a future version. Use .values instead.\n",
      "  \n"
     ]
    }
   ],
   "source": [
    "x = np.asmatrix(x_loop)\n",
    "y = y.as_matrix()\n",
    "\n",
    "print(len(x))\n",
    "print(len(y))\n",
    "\n"
   ]
  },
  {
   "cell_type": "code",
   "execution_count": 13,
   "metadata": {},
   "outputs": [
    {
     "name": "stdout",
     "output_type": "stream",
     "text": [
      "[[0 0 0 ... 0 0 0]\n",
      " [0 0 0 ... 0 0 0]\n",
      " [0 0 0 ... 1 0 0]\n",
      " ...\n",
      " [0 0 0 ... 0 0 0]\n",
      " [0 0 0 ... 0 1 0]\n",
      " [0 0 0 ... 0 0 1]]\n"
     ]
    }
   ],
   "source": [
    "print(x)"
   ]
  },
  {
   "cell_type": "markdown",
   "metadata": {},
   "source": [
    "# Data Partition for Test and Train"
   ]
  },
  {
   "cell_type": "code",
   "execution_count": 14,
   "metadata": {},
   "outputs": [],
   "source": [
    "# Perform Data Partition Split to creat Test and Train\n",
    "\n",
    "from sklearn.model_selection import train_test_split\n",
    "x_train, x_test, y_train, y_test = train_test_split(x, y, test_size=0.3, random_state=64)\n",
    "\n"
   ]
  },
  {
   "cell_type": "code",
   "execution_count": 15,
   "metadata": {},
   "outputs": [
    {
     "name": "stdout",
     "output_type": "stream",
     "text": [
      "[[1]\n",
      " [2]\n",
      " [2]\n",
      " ...\n",
      " [0]\n",
      " [0]\n",
      " [2]]\n"
     ]
    }
   ],
   "source": [
    "print(y_test)"
   ]
  },
  {
   "cell_type": "code",
   "execution_count": 16,
   "metadata": {},
   "outputs": [
    {
     "name": "stdout",
     "output_type": "stream",
     "text": [
      "[[2]\n",
      " [2]\n",
      " [2]\n",
      " ...\n",
      " [2]\n",
      " [1]\n",
      " [0]]\n"
     ]
    }
   ],
   "source": [
    "print(y_train)"
   ]
  },
  {
   "cell_type": "markdown",
   "metadata": {},
   "source": [
    "# Random Forest Classifier"
   ]
  },
  {
   "cell_type": "code",
   "execution_count": 31,
   "metadata": {},
   "outputs": [
    {
     "name": "stderr",
     "output_type": "stream",
     "text": [
      "/Users/sidhandoo/anaconda3/lib/python3.6/site-packages/ipykernel_launcher.py:6: DataConversionWarning: A column-vector y was passed when a 1d array was expected. Please change the shape of y to (n_samples,), for example using ravel().\n",
      "  \n"
     ]
    },
    {
     "name": "stdout",
     "output_type": "stream",
     "text": [
      "0.4346240179573513\n"
     ]
    }
   ],
   "source": [
    "from sklearn.ensemble import RandomForestClassifier\n",
    "from sklearn.metrics import accuracy_score\n",
    "\n",
    "rnd_clf = RandomForestClassifier(n_estimators=500, n_jobs=-1) \n",
    "\n",
    "rnd_clf.fit(x_train, y_train)\n",
    "\n",
    "test_y_pred_rf = rnd_clf.predict(x_test)\n",
    "\n",
    "print(accuracy_score(y_test, test_y_pred_rf))"
   ]
  },
  {
   "cell_type": "code",
   "execution_count": 22,
   "metadata": {},
   "outputs": [
    {
     "name": "stderr",
     "output_type": "stream",
     "text": [
      "/Users/sidhandoo/anaconda3/lib/python3.6/site-packages/sklearn/preprocessing/label.py:219: DataConversionWarning: A column-vector y was passed when a 1d array was expected. Please change the shape of y to (n_samples, ), for example using ravel().\n",
      "  y = column_or_1d(y, warn=True)\n",
      "/Users/sidhandoo/anaconda3/lib/python3.6/site-packages/sklearn/preprocessing/label.py:252: DataConversionWarning: A column-vector y was passed when a 1d array was expected. Please change the shape of y to (n_samples, ), for example using ravel().\n",
      "  y = column_or_1d(y, warn=True)\n"
     ]
    }
   ],
   "source": [
    "from sklearn.tree import DecisionTreeClassifier \n",
    "from sklearn.linear_model import SGDClassifier \n",
    "from sklearn.linear_model import LogisticRegression\n",
    "from sklearn.ensemble import VotingClassifier\n",
    "\n",
    "\n",
    "dtree_clf = DecisionTreeClassifier(max_depth=6)\n",
    "log_clf = LogisticRegression(multi_class='multinomial', solver = 'lbfgs', C=10, max_iter=1000)\n",
    "sgd_clf = SGDClassifier(max_iter=10000, tol=1e-3)\n",
    "\n",
    "voting_clf = VotingClassifier(\n",
    "            estimators=[('dt', dtree_clf), ('lr', log_clf), ('sgd', sgd_clf)],\n",
    "            voting='hard')\n",
    "\n",
    "voting_clf.fit(x_train, y_train)\n",
    "\n",
    "test_y_pred = voting_clf.predict(x_test)"
   ]
  },
  {
   "cell_type": "code",
   "execution_count": 26,
   "metadata": {},
   "outputs": [
    {
     "name": "stdout",
     "output_type": "stream",
     "text": [
      "0.4107744107744108\n"
     ]
    }
   ],
   "source": [
    "from sklearn.metrics import accuracy_score\n",
    "\n",
    "print(accuracy_score(y_test, test_y_pred))"
   ]
  },
  {
   "cell_type": "markdown",
   "metadata": {},
   "source": [
    "# Inspect each Classifier's Accuracy¶"
   ]
  },
  {
   "cell_type": "code",
   "execution_count": 29,
   "metadata": {},
   "outputs": [
    {
     "name": "stdout",
     "output_type": "stream",
     "text": [
      "DecisionTreeClassifier 0.4068462401795735\n",
      "LogisticRegression 0.4346240179573513\n"
     ]
    },
    {
     "name": "stderr",
     "output_type": "stream",
     "text": [
      "/Users/sidhandoo/anaconda3/lib/python3.6/site-packages/sklearn/utils/validation.py:761: DataConversionWarning: A column-vector y was passed when a 1d array was expected. Please change the shape of y to (n_samples, ), for example using ravel().\n",
      "  y = column_or_1d(y, warn=True)\n",
      "/Users/sidhandoo/anaconda3/lib/python3.6/site-packages/sklearn/utils/validation.py:761: DataConversionWarning: A column-vector y was passed when a 1d array was expected. Please change the shape of y to (n_samples, ), for example using ravel().\n",
      "  y = column_or_1d(y, warn=True)\n"
     ]
    },
    {
     "name": "stdout",
     "output_type": "stream",
     "text": [
      "SGDClassifier 0.42326038159371493\n"
     ]
    },
    {
     "name": "stderr",
     "output_type": "stream",
     "text": [
      "/Users/sidhandoo/anaconda3/lib/python3.6/site-packages/sklearn/preprocessing/label.py:219: DataConversionWarning: A column-vector y was passed when a 1d array was expected. Please change the shape of y to (n_samples, ), for example using ravel().\n",
      "  y = column_or_1d(y, warn=True)\n",
      "/Users/sidhandoo/anaconda3/lib/python3.6/site-packages/sklearn/preprocessing/label.py:252: DataConversionWarning: A column-vector y was passed when a 1d array was expected. Please change the shape of y to (n_samples, ), for example using ravel().\n",
      "  y = column_or_1d(y, warn=True)\n"
     ]
    },
    {
     "name": "stdout",
     "output_type": "stream",
     "text": [
      "VotingClassifier 0.4131593714927048\n"
     ]
    }
   ],
   "source": [
    "for clf in (dtree_clf, log_clf, sgd_clf, voting_clf):\n",
    "    clf.fit(x_train, y_train)\n",
    "    test_y_pred = clf.predict(x_test)\n",
    "    print(clf.__class__.__name__, accuracy_score(y_test, test_y_pred))"
   ]
  },
  {
   "cell_type": "markdown",
   "metadata": {},
   "source": [
    "# Bagging classifier"
   ]
  },
  {
   "cell_type": "code",
   "execution_count": 24,
   "metadata": {},
   "outputs": [
    {
     "name": "stderr",
     "output_type": "stream",
     "text": [
      "/Users/sidhandoo/anaconda3/lib/python3.6/site-packages/sklearn/ensemble/bagging.py:621: DataConversionWarning: A column-vector y was passed when a 1d array was expected. Please change the shape of y to (n_samples, ), for example using ravel().\n",
      "  y = column_or_1d(y, warn=True)\n"
     ]
    },
    {
     "data": {
      "text/plain": [
       "0.4216570466570467"
      ]
     },
     "execution_count": 24,
     "metadata": {},
     "output_type": "execute_result"
    }
   ],
   "source": [
    "# Out of Bag Evaluation\n",
    "\n",
    "from sklearn.ensemble import BaggingClassifier \n",
    "\n",
    "bag_clf = BaggingClassifier( \n",
    "            SGDClassifier(), n_estimators= 70, \n",
    "            max_samples= 100, bootstrap=True, n_jobs=-1, oob_score=True) \n",
    "\n",
    "bag_clf.fit(x_train, y_train)\n",
    "bag_clf.oob_score_"
   ]
  },
  {
   "cell_type": "markdown",
   "metadata": {},
   "source": [
    "# Stochastic Gradient Boosting Classifier¶"
   ]
  },
  {
   "cell_type": "code",
   "execution_count": 38,
   "metadata": {},
   "outputs": [
    {
     "name": "stderr",
     "output_type": "stream",
     "text": [
      "/Users/sidhandoo/anaconda3/lib/python3.6/site-packages/sklearn/utils/validation.py:761: DataConversionWarning: A column-vector y was passed when a 1d array was expected. Please change the shape of y to (n_samples, ), for example using ravel().\n",
      "  y = column_or_1d(y, warn=True)\n"
     ]
    },
    {
     "data": {
      "text/plain": [
       "GradientBoostingClassifier(criterion='friedman_mse', init=None,\n",
       "              learning_rate=0.1, loss='deviance', max_depth=5,\n",
       "              max_features=None, max_leaf_nodes=None,\n",
       "              min_impurity_decrease=0.0, min_impurity_split=None,\n",
       "              min_samples_leaf=1, min_samples_split=2,\n",
       "              min_weight_fraction_leaf=0.0, n_estimators=500,\n",
       "              n_iter_no_change=None, presort='auto', random_state=None,\n",
       "              subsample=0.75, tol=0.0001, validation_fraction=0.1,\n",
       "              verbose=0, warm_start=False)"
      ]
     },
     "execution_count": 38,
     "metadata": {},
     "output_type": "execute_result"
    }
   ],
   "source": [
    "# Use GradientBoosting\n",
    "\n",
    "from sklearn.ensemble import GradientBoostingClassifier\n",
    "\n",
    "gbclf = GradientBoostingClassifier(max_depth= 5, n_estimators= 500, learning_rate=0.1, subsample=0.75) \n",
    "\n",
    "gbclf.fit(x_train, y_train)"
   ]
  },
  {
   "cell_type": "code",
   "execution_count": 37,
   "metadata": {},
   "outputs": [
    {
     "name": "stdout",
     "output_type": "stream",
     "text": [
      "0.4346240179573513\n"
     ]
    }
   ],
   "source": [
    "test_y_pred = gbclf.predict(x_test)\n",
    "\n",
    "print(accuracy_score(y_test, test_y_pred))"
   ]
  },
  {
   "cell_type": "code",
   "execution_count": null,
   "metadata": {},
   "outputs": [],
   "source": []
  }
 ],
 "metadata": {
  "kernelspec": {
   "display_name": "Python 3",
   "language": "python",
   "name": "python3"
  },
  "language_info": {
   "codemirror_mode": {
    "name": "ipython",
    "version": 3
   },
   "file_extension": ".py",
   "mimetype": "text/x-python",
   "name": "python",
   "nbconvert_exporter": "python",
   "pygments_lexer": "ipython3",
   "version": "3.6.8"
  }
 },
 "nbformat": 4,
 "nbformat_minor": 2
}
